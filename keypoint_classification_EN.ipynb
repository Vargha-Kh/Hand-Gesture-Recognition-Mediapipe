{
 "cells": [
  {
   "cell_type": "code",
   "execution_count": 132,
   "metadata": {
    "id": "igMyGnjE9hEp"
   },
   "outputs": [],
   "source": [
    "import csv\n",
    "import numpy as np\n",
    "import tensorflow as tf\n",
    "from sklearn.model_selection import train_test_split\n",
    "\n",
    "RANDOM_SEED = 42"
   ]
  },
  {
   "cell_type": "markdown",
   "metadata": {
    "id": "t2HDvhIu9hEr"
   },
   "source": [
    "# Specify each path"
   ]
  },
  {
   "cell_type": "code",
   "execution_count": 133,
   "metadata": {
    "id": "9NvZP2Zn9hEy"
   },
   "outputs": [],
   "source": [
    "dataset = 'model/keypoint_classifier/keypoint.csv'\n",
    "model_save_path = 'model/keypoint_classifier/keypoint_classifier.hdf5'\n",
    "tflite_save_path = 'model/keypoint_classifier/keypoint_classifier.tflite'"
   ]
  },
  {
   "cell_type": "markdown",
   "metadata": {
    "id": "s5oMH7x19hEz"
   },
   "source": [
    "# Set number of classes"
   ]
  },
  {
   "cell_type": "code",
   "execution_count": 134,
   "metadata": {
    "id": "du4kodXL9hEz"
   },
   "outputs": [],
   "source": [
    "NUM_CLASSES = 4"
   ]
  },
  {
   "cell_type": "markdown",
   "metadata": {
    "id": "XjnL0uso9hEz"
   },
   "source": [
    "# Dataset reading"
   ]
  },
  {
   "cell_type": "code",
   "execution_count": 135,
   "metadata": {
    "id": "QT5ZqtEz9hE0"
   },
   "outputs": [],
   "source": [
    "X_dataset = np.loadtxt(dataset, delimiter=',', dtype='float32', usecols=list(range(1, (21 * 2) + 1)))"
   ]
  },
  {
   "cell_type": "code",
   "execution_count": 136,
   "metadata": {
    "id": "QmoKFsp49hE0"
   },
   "outputs": [],
   "source": [
    "y_dataset = np.loadtxt(dataset, delimiter=',', dtype='int32', usecols=(0))"
   ]
  },
  {
   "cell_type": "code",
   "execution_count": 137,
   "metadata": {
    "id": "xQU7JTZ_9hE0"
   },
   "outputs": [],
   "source": [
    "X_train, X_test, y_train, y_test = train_test_split(X_dataset, y_dataset, train_size=0.75, random_state=RANDOM_SEED)"
   ]
  },
  {
   "cell_type": "markdown",
   "metadata": {
    "id": "mxK_lETT9hE0"
   },
   "source": [
    "# Model building"
   ]
  },
  {
   "cell_type": "code",
   "execution_count": 147,
   "metadata": {
    "id": "vHBmUf1t9hE1"
   },
   "outputs": [],
   "source": [
    "model = tf.keras.models.Sequential([\n",
    "    tf.keras.layers.Input((21 * 2, )),\n",
    "#     tf.keras.layers.Dropout(0.2),\n",
    "    tf.keras.layers.Dense(20, activation='relu'),\n",
    "#     tf.keras.layers.Dropout(0.4),\n",
    "    tf.keras.layers.Dense(10, activation='relu'),\n",
    "    tf.keras.layers.Dense(NUM_CLASSES, activation='softmax')\n",
    "])"
   ]
  },
  {
   "cell_type": "code",
   "execution_count": 139,
   "metadata": {
    "colab": {
     "base_uri": "https://localhost:8080/"
    },
    "id": "ypqky9tc9hE1",
    "outputId": "5db082bb-30e3-4110-bf63-a1ee777ecd46"
   },
   "outputs": [
    {
     "name": "stdout",
     "output_type": "stream",
     "text": [
      "Model: \"sequential_15\"\n",
      "_________________________________________________________________\n",
      "Layer (type)                 Output Shape              Param #   \n",
      "=================================================================\n",
      "dropout_25 (Dropout)         (None, 42)                0         \n",
      "_________________________________________________________________\n",
      "dense_45 (Dense)             (None, 20)                860       \n",
      "_________________________________________________________________\n",
      "dropout_26 (Dropout)         (None, 20)                0         \n",
      "_________________________________________________________________\n",
      "dense_46 (Dense)             (None, 10)                210       \n",
      "_________________________________________________________________\n",
      "dense_47 (Dense)             (None, 4)                 44        \n",
      "=================================================================\n",
      "Total params: 1,114\n",
      "Trainable params: 1,114\n",
      "Non-trainable params: 0\n",
      "_________________________________________________________________\n"
     ]
    }
   ],
   "source": [
    "model.summary()  # tf.keras.utils.plot_model(model, show_shapes=True)"
   ]
  },
  {
   "cell_type": "code",
   "execution_count": 144,
   "metadata": {
    "id": "MbMjOflQ9hE1"
   },
   "outputs": [],
   "source": [
    "# Model checkpoint callback\n",
    "cp_callback = tf.keras.callbacks.ModelCheckpoint(\n",
    "    model_save_path, save_best_only=True, monitor=\"val_accuracy\", verbose=1, save_weights_only=False)\n",
    "# Callback for early stopping\n",
    "es_callback = tf.keras.callbacks.EarlyStopping(patience=40, verbose=1)\n",
    "\n",
    "lr_reducer = tf.keras.callbacks.ReduceLROnPlateau(\n",
    "    monitor=\"val_accuracy\",\n",
    "    factor=0.1,\n",
    "    patience=20,\n",
    "    verbose=1)"
   ]
  },
  {
   "cell_type": "code",
   "execution_count": 148,
   "metadata": {
    "id": "c3Dac0M_9hE2"
   },
   "outputs": [],
   "source": [
    "# Model compilation\n",
    "model.compile(\n",
    "    optimizer='adam',\n",
    "    loss='sparse_categorical_crossentropy',\n",
    "    metrics=['accuracy']\n",
    ")"
   ]
  },
  {
   "cell_type": "markdown",
   "metadata": {
    "id": "7XI0j1Iu9hE2"
   },
   "source": [
    "# Model training"
   ]
  },
  {
   "cell_type": "code",
   "execution_count": 149,
   "metadata": {
    "colab": {
     "base_uri": "https://localhost:8080/"
    },
    "id": "WirBl-JE9hE3",
    "outputId": "71b30ca2-8294-4d9d-8aa2-800d90d399de",
    "scrolled": true
   },
   "outputs": [
    {
     "name": "stdout",
     "output_type": "stream",
     "text": [
      "Epoch 1/1000\n",
      "32/32 [==============================] - 1s 10ms/step - loss: 1.2863 - accuracy: 0.3588 - val_loss: 1.2014 - val_accuracy: 0.4880\n",
      "\n",
      "Epoch 00001: val_accuracy did not improve from 0.97534\n",
      "Epoch 2/1000\n",
      "32/32 [==============================] - 0s 4ms/step - loss: 1.1710 - accuracy: 0.5238 - val_loss: 1.0981 - val_accuracy: 0.5949\n",
      "\n",
      "Epoch 00002: val_accuracy did not improve from 0.97534\n",
      "Epoch 3/1000\n",
      "32/32 [==============================] - 0s 4ms/step - loss: 1.0613 - accuracy: 0.6105 - val_loss: 0.9778 - val_accuracy: 0.6689\n",
      "\n",
      "Epoch 00003: val_accuracy did not improve from 0.97534\n",
      "Epoch 4/1000\n",
      "32/32 [==============================] - 0s 6ms/step - loss: 0.9324 - accuracy: 0.6683 - val_loss: 0.8393 - val_accuracy: 0.7272\n",
      "\n",
      "Epoch 00004: val_accuracy did not improve from 0.97534\n",
      "Epoch 5/1000\n",
      "32/32 [==============================] - 0s 5ms/step - loss: 0.7993 - accuracy: 0.6925 - val_loss: 0.7150 - val_accuracy: 0.7399\n",
      "\n",
      "Epoch 00005: val_accuracy did not improve from 0.97534\n",
      "Epoch 6/1000\n",
      "32/32 [==============================] - 0s 5ms/step - loss: 0.6907 - accuracy: 0.7301 - val_loss: 0.6187 - val_accuracy: 0.7870\n",
      "\n",
      "Epoch 00006: val_accuracy did not improve from 0.97534\n",
      "Epoch 7/1000\n",
      "32/32 [==============================] - 0s 5ms/step - loss: 0.6011 - accuracy: 0.7847 - val_loss: 0.5397 - val_accuracy: 0.8259\n",
      "\n",
      "Epoch 00007: val_accuracy did not improve from 0.97534\n",
      "Epoch 8/1000\n",
      "32/32 [==============================] - 0s 4ms/step - loss: 0.5258 - accuracy: 0.8256 - val_loss: 0.4711 - val_accuracy: 0.8640\n",
      "\n",
      "Epoch 00008: val_accuracy did not improve from 0.97534\n",
      "Epoch 9/1000\n",
      "32/32 [==============================] - 0s 5ms/step - loss: 0.4613 - accuracy: 0.8610 - val_loss: 0.4150 - val_accuracy: 0.8901\n",
      "\n",
      "Epoch 00009: val_accuracy did not improve from 0.97534\n",
      "Epoch 10/1000\n",
      "32/32 [==============================] - 0s 5ms/step - loss: 0.4067 - accuracy: 0.8906 - val_loss: 0.3693 - val_accuracy: 0.9148\n",
      "\n",
      "Epoch 00010: val_accuracy did not improve from 0.97534\n",
      "Epoch 11/1000\n",
      "32/32 [==============================] - 0s 5ms/step - loss: 0.3631 - accuracy: 0.9138 - val_loss: 0.3318 - val_accuracy: 0.9238\n",
      "\n",
      "Epoch 00011: val_accuracy did not improve from 0.97534\n",
      "Epoch 12/1000\n",
      "32/32 [==============================] - 0s 5ms/step - loss: 0.3257 - accuracy: 0.9235 - val_loss: 0.3019 - val_accuracy: 0.9283\n",
      "\n",
      "Epoch 00012: val_accuracy did not improve from 0.97534\n",
      "Epoch 13/1000\n",
      "32/32 [==============================] - 0s 5ms/step - loss: 0.2954 - accuracy: 0.9332 - val_loss: 0.2767 - val_accuracy: 0.9410\n",
      "\n",
      "Epoch 00013: val_accuracy did not improve from 0.97534\n",
      "Epoch 14/1000\n",
      "32/32 [==============================] - 0s 5ms/step - loss: 0.2692 - accuracy: 0.9427 - val_loss: 0.2556 - val_accuracy: 0.9432\n",
      "\n",
      "Epoch 00014: val_accuracy did not improve from 0.97534\n",
      "Epoch 15/1000\n",
      "32/32 [==============================] - 0s 5ms/step - loss: 0.2470 - accuracy: 0.9479 - val_loss: 0.2365 - val_accuracy: 0.9454\n",
      "\n",
      "Epoch 00015: val_accuracy did not improve from 0.97534\n",
      "Epoch 16/1000\n",
      "32/32 [==============================] - 0s 5ms/step - loss: 0.2294 - accuracy: 0.9487 - val_loss: 0.2198 - val_accuracy: 0.9507\n",
      "\n",
      "Epoch 00016: val_accuracy did not improve from 0.97534\n",
      "Epoch 17/1000\n",
      "32/32 [==============================] - 0s 5ms/step - loss: 0.2113 - accuracy: 0.9551 - val_loss: 0.2077 - val_accuracy: 0.9537\n",
      "\n",
      "Epoch 00017: val_accuracy did not improve from 0.97534\n",
      "Epoch 18/1000\n",
      "32/32 [==============================] - 0s 5ms/step - loss: 0.1972 - accuracy: 0.9586 - val_loss: 0.1949 - val_accuracy: 0.9567\n",
      "\n",
      "Epoch 00018: val_accuracy did not improve from 0.97534\n",
      "Epoch 19/1000\n",
      "32/32 [==============================] - 0s 5ms/step - loss: 0.1843 - accuracy: 0.9591 - val_loss: 0.1832 - val_accuracy: 0.9581\n",
      "\n",
      "Epoch 00019: val_accuracy did not improve from 0.97534\n",
      "Epoch 20/1000\n",
      "32/32 [==============================] - 0s 6ms/step - loss: 0.1734 - accuracy: 0.9599 - val_loss: 0.1731 - val_accuracy: 0.9611\n",
      "\n",
      "Epoch 00020: val_accuracy did not improve from 0.97534\n",
      "Epoch 21/1000\n",
      "32/32 [==============================] - 0s 5ms/step - loss: 0.1638 - accuracy: 0.9611 - val_loss: 0.1643 - val_accuracy: 0.9634\n",
      "\n",
      "Epoch 00021: val_accuracy did not improve from 0.97534\n",
      "Epoch 22/1000\n",
      "32/32 [==============================] - 0s 5ms/step - loss: 0.1536 - accuracy: 0.9614 - val_loss: 0.1562 - val_accuracy: 0.9649\n",
      "\n",
      "Epoch 00022: val_accuracy did not improve from 0.97534\n",
      "Epoch 23/1000\n",
      "32/32 [==============================] - 0s 5ms/step - loss: 0.1450 - accuracy: 0.9641 - val_loss: 0.1506 - val_accuracy: 0.9656\n",
      "\n",
      "Epoch 00023: val_accuracy did not improve from 0.97534\n",
      "Epoch 24/1000\n",
      "32/32 [==============================] - 0s 5ms/step - loss: 0.1375 - accuracy: 0.9661 - val_loss: 0.1428 - val_accuracy: 0.9694\n",
      "\n",
      "Epoch 00024: val_accuracy did not improve from 0.97534\n",
      "Epoch 25/1000\n",
      "32/32 [==============================] - 0s 4ms/step - loss: 0.1307 - accuracy: 0.9681 - val_loss: 0.1388 - val_accuracy: 0.9664\n",
      "\n",
      "Epoch 00025: val_accuracy did not improve from 0.97534\n",
      "Epoch 26/1000\n",
      "32/32 [==============================] - 0s 5ms/step - loss: 0.1247 - accuracy: 0.9689 - val_loss: 0.1325 - val_accuracy: 0.9701\n",
      "\n",
      "Epoch 00026: val_accuracy did not improve from 0.97534\n",
      "Epoch 27/1000\n",
      "32/32 [==============================] - 0s 5ms/step - loss: 0.1209 - accuracy: 0.9698 - val_loss: 0.1274 - val_accuracy: 0.9694\n",
      "\n",
      "Epoch 00027: val_accuracy did not improve from 0.97534\n",
      "Epoch 28/1000\n",
      "32/32 [==============================] - 0s 5ms/step - loss: 0.1141 - accuracy: 0.9718 - val_loss: 0.1229 - val_accuracy: 0.9709\n",
      "\n",
      "Epoch 00028: val_accuracy did not improve from 0.97534\n",
      "Epoch 29/1000\n",
      "32/32 [==============================] - 0s 6ms/step - loss: 0.1100 - accuracy: 0.9746 - val_loss: 0.1185 - val_accuracy: 0.9716\n",
      "\n",
      "Epoch 00029: val_accuracy did not improve from 0.97534\n",
      "Epoch 30/1000\n",
      "32/32 [==============================] - 0s 5ms/step - loss: 0.1047 - accuracy: 0.9751 - val_loss: 0.1150 - val_accuracy: 0.9716\n",
      "\n",
      "Epoch 00030: val_accuracy did not improve from 0.97534\n",
      "Epoch 31/1000\n",
      "32/32 [==============================] - 0s 5ms/step - loss: 0.1006 - accuracy: 0.9758 - val_loss: 0.1118 - val_accuracy: 0.9723\n",
      "\n",
      "Epoch 00031: val_accuracy did not improve from 0.97534\n",
      "Epoch 32/1000\n",
      "32/32 [==============================] - 0s 6ms/step - loss: 0.0973 - accuracy: 0.9763 - val_loss: 0.1083 - val_accuracy: 0.9731\n",
      "\n",
      "Epoch 00032: val_accuracy did not improve from 0.97534\n",
      "Epoch 33/1000\n",
      "32/32 [==============================] - 0s 5ms/step - loss: 0.0941 - accuracy: 0.9773 - val_loss: 0.1068 - val_accuracy: 0.9731\n",
      "\n",
      "Epoch 00033: val_accuracy did not improve from 0.97534\n",
      "Epoch 34/1000\n",
      "32/32 [==============================] - 0s 5ms/step - loss: 0.0904 - accuracy: 0.9783 - val_loss: 0.1039 - val_accuracy: 0.9731\n",
      "\n",
      "Epoch 00034: val_accuracy did not improve from 0.97534\n",
      "Epoch 35/1000\n",
      "32/32 [==============================] - 0s 5ms/step - loss: 0.0874 - accuracy: 0.9791 - val_loss: 0.0999 - val_accuracy: 0.9746\n",
      "\n",
      "Epoch 00035: val_accuracy did not improve from 0.97534\n",
      "Epoch 36/1000\n",
      "32/32 [==============================] - 0s 5ms/step - loss: 0.0866 - accuracy: 0.9791 - val_loss: 0.0976 - val_accuracy: 0.9746\n",
      "\n",
      "Epoch 00036: val_accuracy did not improve from 0.97534\n",
      "Epoch 37/1000\n",
      "32/32 [==============================] - 0s 5ms/step - loss: 0.0825 - accuracy: 0.9803 - val_loss: 0.0953 - val_accuracy: 0.9753\n",
      "\n",
      "Epoch 00037: val_accuracy did not improve from 0.97534\n",
      "Epoch 38/1000\n",
      "32/32 [==============================] - 0s 5ms/step - loss: 0.0795 - accuracy: 0.9808 - val_loss: 0.0937 - val_accuracy: 0.9768\n",
      "\n",
      "Epoch 00038: val_accuracy improved from 0.97534 to 0.97683, saving model to model/keypoint_classifier/keypoint_classifier.hdf5\n",
      "Epoch 39/1000\n",
      "32/32 [==============================] - 0s 5ms/step - loss: 0.0773 - accuracy: 0.9828 - val_loss: 0.0919 - val_accuracy: 0.9776\n",
      "\n",
      "Epoch 00039: val_accuracy improved from 0.97683 to 0.97758, saving model to model/keypoint_classifier/keypoint_classifier.hdf5\n",
      "Epoch 40/1000\n",
      "32/32 [==============================] - 0s 5ms/step - loss: 0.0753 - accuracy: 0.9813 - val_loss: 0.0898 - val_accuracy: 0.9776\n",
      "\n",
      "Epoch 00040: val_accuracy did not improve from 0.97758\n",
      "Epoch 41/1000\n",
      "32/32 [==============================] - 0s 5ms/step - loss: 0.0748 - accuracy: 0.9816 - val_loss: 0.0879 - val_accuracy: 0.9776\n",
      "\n",
      "Epoch 00041: val_accuracy did not improve from 0.97758\n",
      "Epoch 42/1000\n",
      "32/32 [==============================] - 0s 5ms/step - loss: 0.0705 - accuracy: 0.9831 - val_loss: 0.0862 - val_accuracy: 0.9768\n",
      "\n",
      "Epoch 00042: val_accuracy did not improve from 0.97758\n",
      "Epoch 43/1000\n",
      "32/32 [==============================] - 0s 5ms/step - loss: 0.0697 - accuracy: 0.9838 - val_loss: 0.0848 - val_accuracy: 0.9791\n",
      "\n",
      "Epoch 00043: val_accuracy improved from 0.97758 to 0.97907, saving model to model/keypoint_classifier/keypoint_classifier.hdf5\n",
      "Epoch 44/1000\n",
      "32/32 [==============================] - 0s 5ms/step - loss: 0.0678 - accuracy: 0.9843 - val_loss: 0.0829 - val_accuracy: 0.9791\n",
      "\n",
      "Epoch 00044: val_accuracy did not improve from 0.97907\n",
      "Epoch 45/1000\n",
      "32/32 [==============================] - 0s 5ms/step - loss: 0.0663 - accuracy: 0.9846 - val_loss: 0.0839 - val_accuracy: 0.9783\n",
      "\n",
      "Epoch 00045: val_accuracy did not improve from 0.97907\n",
      "Epoch 46/1000\n",
      "32/32 [==============================] - 0s 5ms/step - loss: 0.0640 - accuracy: 0.9843 - val_loss: 0.0799 - val_accuracy: 0.9798\n",
      "\n",
      "Epoch 00046: val_accuracy improved from 0.97907 to 0.97982, saving model to model/keypoint_classifier/keypoint_classifier.hdf5\n",
      "Epoch 47/1000\n",
      "32/32 [==============================] - 0s 5ms/step - loss: 0.0616 - accuracy: 0.9855 - val_loss: 0.0793 - val_accuracy: 0.9798\n",
      "\n",
      "Epoch 00047: val_accuracy did not improve from 0.97982\n",
      "Epoch 48/1000\n",
      "32/32 [==============================] - 0s 4ms/step - loss: 0.0615 - accuracy: 0.9853 - val_loss: 0.0787 - val_accuracy: 0.9806\n",
      "\n",
      "Epoch 00048: val_accuracy improved from 0.97982 to 0.98057, saving model to model/keypoint_classifier/keypoint_classifier.hdf5\n",
      "Epoch 49/1000\n",
      "32/32 [==============================] - 0s 5ms/step - loss: 0.0589 - accuracy: 0.9863 - val_loss: 0.0761 - val_accuracy: 0.9806\n",
      "\n",
      "Epoch 00049: val_accuracy did not improve from 0.98057\n",
      "Epoch 50/1000\n",
      "32/32 [==============================] - 0s 5ms/step - loss: 0.0583 - accuracy: 0.9860 - val_loss: 0.0761 - val_accuracy: 0.9806\n",
      "\n",
      "Epoch 00050: val_accuracy did not improve from 0.98057\n",
      "Epoch 51/1000\n",
      "32/32 [==============================] - 0s 5ms/step - loss: 0.0573 - accuracy: 0.9855 - val_loss: 0.0746 - val_accuracy: 0.9798\n",
      "\n",
      "Epoch 00051: val_accuracy did not improve from 0.98057\n",
      "Epoch 52/1000\n",
      "32/32 [==============================] - 0s 6ms/step - loss: 0.0554 - accuracy: 0.9865 - val_loss: 0.0720 - val_accuracy: 0.9821\n",
      "\n",
      "Epoch 00052: val_accuracy improved from 0.98057 to 0.98206, saving model to model/keypoint_classifier/keypoint_classifier.hdf5\n",
      "Epoch 53/1000\n",
      "32/32 [==============================] - 0s 5ms/step - loss: 0.0545 - accuracy: 0.9855 - val_loss: 0.0714 - val_accuracy: 0.9806\n",
      "\n",
      "Epoch 00053: val_accuracy did not improve from 0.98206\n",
      "Epoch 54/1000\n",
      "32/32 [==============================] - 0s 5ms/step - loss: 0.0533 - accuracy: 0.9868 - val_loss: 0.0702 - val_accuracy: 0.9813\n",
      "\n",
      "Epoch 00054: val_accuracy did not improve from 0.98206\n",
      "Epoch 55/1000\n",
      "32/32 [==============================] - 0s 5ms/step - loss: 0.0525 - accuracy: 0.9873 - val_loss: 0.0700 - val_accuracy: 0.9813\n",
      "\n",
      "Epoch 00055: val_accuracy did not improve from 0.98206\n",
      "Epoch 56/1000\n",
      "32/32 [==============================] - 0s 4ms/step - loss: 0.0507 - accuracy: 0.9878 - val_loss: 0.0697 - val_accuracy: 0.9836\n",
      "\n",
      "Epoch 00056: val_accuracy improved from 0.98206 to 0.98356, saving model to model/keypoint_classifier/keypoint_classifier.hdf5\n",
      "Epoch 57/1000\n",
      "32/32 [==============================] - 0s 6ms/step - loss: 0.0497 - accuracy: 0.9880 - val_loss: 0.0680 - val_accuracy: 0.9828\n",
      "\n",
      "Epoch 00057: val_accuracy did not improve from 0.98356\n",
      "Epoch 58/1000\n",
      "32/32 [==============================] - 0s 5ms/step - loss: 0.0505 - accuracy: 0.9868 - val_loss: 0.0676 - val_accuracy: 0.9828\n",
      "\n",
      "Epoch 00058: val_accuracy did not improve from 0.98356\n",
      "Epoch 59/1000\n",
      "32/32 [==============================] - 0s 5ms/step - loss: 0.0477 - accuracy: 0.9885 - val_loss: 0.0653 - val_accuracy: 0.9836\n",
      "\n",
      "Epoch 00059: val_accuracy did not improve from 0.98356\n",
      "Epoch 60/1000\n",
      "32/32 [==============================] - 0s 5ms/step - loss: 0.0469 - accuracy: 0.9883 - val_loss: 0.0657 - val_accuracy: 0.9828\n",
      "\n",
      "Epoch 00060: val_accuracy did not improve from 0.98356\n",
      "Epoch 61/1000\n",
      "32/32 [==============================] - 0s 4ms/step - loss: 0.0460 - accuracy: 0.9888 - val_loss: 0.0637 - val_accuracy: 0.9843\n",
      "\n",
      "Epoch 00061: val_accuracy improved from 0.98356 to 0.98430, saving model to model/keypoint_classifier/keypoint_classifier.hdf5\n",
      "Epoch 62/1000\n",
      "32/32 [==============================] - 0s 7ms/step - loss: 0.0448 - accuracy: 0.9878 - val_loss: 0.0633 - val_accuracy: 0.9851\n",
      "\n",
      "Epoch 00062: val_accuracy improved from 0.98430 to 0.98505, saving model to model/keypoint_classifier/keypoint_classifier.hdf5\n",
      "Epoch 63/1000\n",
      "32/32 [==============================] - 0s 5ms/step - loss: 0.0440 - accuracy: 0.9888 - val_loss: 0.0619 - val_accuracy: 0.9858\n",
      "\n",
      "Epoch 00063: val_accuracy improved from 0.98505 to 0.98580, saving model to model/keypoint_classifier/keypoint_classifier.hdf5\n",
      "Epoch 64/1000\n",
      "32/32 [==============================] - 0s 5ms/step - loss: 0.0432 - accuracy: 0.9905 - val_loss: 0.0614 - val_accuracy: 0.9851\n",
      "\n",
      "Epoch 00064: val_accuracy did not improve from 0.98580\n",
      "Epoch 65/1000\n",
      "32/32 [==============================] - 0s 5ms/step - loss: 0.0420 - accuracy: 0.9893 - val_loss: 0.0627 - val_accuracy: 0.9836\n",
      "\n",
      "Epoch 00065: val_accuracy did not improve from 0.98580\n",
      "Epoch 66/1000\n",
      "32/32 [==============================] - 0s 6ms/step - loss: 0.0412 - accuracy: 0.9895 - val_loss: 0.0605 - val_accuracy: 0.9858\n",
      "\n",
      "Epoch 00066: val_accuracy did not improve from 0.98580\n",
      "Epoch 67/1000\n",
      "32/32 [==============================] - 0s 5ms/step - loss: 0.0404 - accuracy: 0.9903 - val_loss: 0.0615 - val_accuracy: 0.9865\n",
      "\n",
      "Epoch 00067: val_accuracy improved from 0.98580 to 0.98655, saving model to model/keypoint_classifier/keypoint_classifier.hdf5\n",
      "Epoch 68/1000\n",
      "32/32 [==============================] - 0s 5ms/step - loss: 0.0404 - accuracy: 0.9908 - val_loss: 0.0594 - val_accuracy: 0.9873\n",
      "\n",
      "Epoch 00068: val_accuracy improved from 0.98655 to 0.98729, saving model to model/keypoint_classifier/keypoint_classifier.hdf5\n",
      "Epoch 69/1000\n",
      "32/32 [==============================] - 0s 5ms/step - loss: 0.0393 - accuracy: 0.9903 - val_loss: 0.0595 - val_accuracy: 0.9858\n",
      "\n",
      "Epoch 00069: val_accuracy did not improve from 0.98729\n",
      "Epoch 70/1000\n",
      "32/32 [==============================] - 0s 5ms/step - loss: 0.0387 - accuracy: 0.9913 - val_loss: 0.0582 - val_accuracy: 0.9873\n",
      "\n",
      "Epoch 00070: val_accuracy did not improve from 0.98729\n",
      "Epoch 71/1000\n",
      "32/32 [==============================] - 0s 5ms/step - loss: 0.0378 - accuracy: 0.9915 - val_loss: 0.0588 - val_accuracy: 0.9865\n",
      "\n",
      "Epoch 00071: val_accuracy did not improve from 0.98729\n",
      "Epoch 72/1000\n",
      "32/32 [==============================] - 0s 5ms/step - loss: 0.0374 - accuracy: 0.9913 - val_loss: 0.0572 - val_accuracy: 0.9880\n",
      "\n",
      "Epoch 00072: val_accuracy improved from 0.98729 to 0.98804, saving model to model/keypoint_classifier/keypoint_classifier.hdf5\n",
      "Epoch 73/1000\n",
      "32/32 [==============================] - 0s 5ms/step - loss: 0.0364 - accuracy: 0.9910 - val_loss: 0.0564 - val_accuracy: 0.9873\n",
      "\n",
      "Epoch 00073: val_accuracy did not improve from 0.98804\n",
      "Epoch 74/1000\n",
      "32/32 [==============================] - 0s 5ms/step - loss: 0.0362 - accuracy: 0.9913 - val_loss: 0.0568 - val_accuracy: 0.9880\n",
      "\n",
      "Epoch 00074: val_accuracy did not improve from 0.98804\n",
      "Epoch 75/1000\n",
      "32/32 [==============================] - 0s 5ms/step - loss: 0.0352 - accuracy: 0.9925 - val_loss: 0.0561 - val_accuracy: 0.9865\n",
      "\n",
      "Epoch 00075: val_accuracy did not improve from 0.98804\n",
      "Epoch 76/1000\n",
      "32/32 [==============================] - 0s 5ms/step - loss: 0.0352 - accuracy: 0.9915 - val_loss: 0.0546 - val_accuracy: 0.9873\n",
      "\n",
      "Epoch 00076: val_accuracy did not improve from 0.98804\n",
      "Epoch 77/1000\n",
      "32/32 [==============================] - 0s 4ms/step - loss: 0.0341 - accuracy: 0.9918 - val_loss: 0.0540 - val_accuracy: 0.9888\n",
      "\n",
      "Epoch 00077: val_accuracy improved from 0.98804 to 0.98879, saving model to model/keypoint_classifier/keypoint_classifier.hdf5\n",
      "Epoch 78/1000\n",
      "32/32 [==============================] - 0s 4ms/step - loss: 0.0337 - accuracy: 0.9925 - val_loss: 0.0550 - val_accuracy: 0.9873\n",
      "\n",
      "Epoch 00078: val_accuracy did not improve from 0.98879\n",
      "Epoch 79/1000\n",
      "32/32 [==============================] - 0s 5ms/step - loss: 0.0331 - accuracy: 0.9923 - val_loss: 0.0552 - val_accuracy: 0.9865\n",
      "\n",
      "Epoch 00079: val_accuracy did not improve from 0.98879\n",
      "Epoch 80/1000\n",
      "32/32 [==============================] - 0s 5ms/step - loss: 0.0320 - accuracy: 0.9933 - val_loss: 0.0536 - val_accuracy: 0.9880\n",
      "\n",
      "Epoch 00080: val_accuracy did not improve from 0.98879\n",
      "Epoch 81/1000\n",
      "32/32 [==============================] - 0s 5ms/step - loss: 0.0322 - accuracy: 0.9918 - val_loss: 0.0544 - val_accuracy: 0.9858\n",
      "\n",
      "Epoch 00081: val_accuracy did not improve from 0.98879\n",
      "Epoch 82/1000\n",
      "32/32 [==============================] - 0s 5ms/step - loss: 0.0317 - accuracy: 0.9930 - val_loss: 0.0538 - val_accuracy: 0.9873\n",
      "\n",
      "Epoch 00082: val_accuracy did not improve from 0.98879\n",
      "Epoch 83/1000\n",
      "32/32 [==============================] - 0s 5ms/step - loss: 0.0312 - accuracy: 0.9915 - val_loss: 0.0525 - val_accuracy: 0.9880\n",
      "\n",
      "Epoch 00083: val_accuracy did not improve from 0.98879\n",
      "Epoch 84/1000\n",
      "32/32 [==============================] - 0s 5ms/step - loss: 0.0308 - accuracy: 0.9935 - val_loss: 0.0517 - val_accuracy: 0.9895\n",
      "\n",
      "Epoch 00084: val_accuracy improved from 0.98879 to 0.98954, saving model to model/keypoint_classifier/keypoint_classifier.hdf5\n",
      "Epoch 85/1000\n",
      "32/32 [==============================] - 0s 4ms/step - loss: 0.0306 - accuracy: 0.9933 - val_loss: 0.0520 - val_accuracy: 0.9873\n",
      "\n",
      "Epoch 00085: val_accuracy did not improve from 0.98954\n",
      "Epoch 86/1000\n",
      "32/32 [==============================] - 0s 5ms/step - loss: 0.0303 - accuracy: 0.9940 - val_loss: 0.0525 - val_accuracy: 0.9873\n",
      "\n",
      "Epoch 00086: val_accuracy did not improve from 0.98954\n",
      "Epoch 87/1000\n",
      "32/32 [==============================] - 0s 6ms/step - loss: 0.0304 - accuracy: 0.9928 - val_loss: 0.0509 - val_accuracy: 0.9880\n",
      "\n",
      "Epoch 00087: val_accuracy did not improve from 0.98954\n",
      "Epoch 88/1000\n",
      "32/32 [==============================] - 0s 6ms/step - loss: 0.0306 - accuracy: 0.9925 - val_loss: 0.0522 - val_accuracy: 0.9888\n",
      "\n",
      "Epoch 00088: val_accuracy did not improve from 0.98954\n",
      "Epoch 89/1000\n",
      "32/32 [==============================] - 0s 5ms/step - loss: 0.0295 - accuracy: 0.9945 - val_loss: 0.0495 - val_accuracy: 0.9888\n",
      "\n",
      "Epoch 00089: val_accuracy did not improve from 0.98954\n",
      "Epoch 90/1000\n",
      "32/32 [==============================] - 0s 7ms/step - loss: 0.0288 - accuracy: 0.9938 - val_loss: 0.0496 - val_accuracy: 0.9910\n",
      "\n",
      "Epoch 00090: val_accuracy improved from 0.98954 to 0.99103, saving model to model/keypoint_classifier/keypoint_classifier.hdf5\n",
      "Epoch 91/1000\n",
      "32/32 [==============================] - 0s 6ms/step - loss: 0.0288 - accuracy: 0.9953 - val_loss: 0.0503 - val_accuracy: 0.9903\n",
      "\n",
      "Epoch 00091: val_accuracy did not improve from 0.99103\n",
      "Epoch 92/1000\n",
      "32/32 [==============================] - 0s 6ms/step - loss: 0.0284 - accuracy: 0.9933 - val_loss: 0.0492 - val_accuracy: 0.9888\n",
      "\n",
      "Epoch 00092: val_accuracy did not improve from 0.99103\n",
      "Epoch 93/1000\n",
      "32/32 [==============================] - 0s 4ms/step - loss: 0.0284 - accuracy: 0.9945 - val_loss: 0.0482 - val_accuracy: 0.9880\n",
      "\n",
      "Epoch 00093: val_accuracy did not improve from 0.99103\n",
      "Epoch 94/1000\n",
      "32/32 [==============================] - 0s 5ms/step - loss: 0.0279 - accuracy: 0.9945 - val_loss: 0.0500 - val_accuracy: 0.9880\n",
      "\n",
      "Epoch 00094: val_accuracy did not improve from 0.99103\n",
      "Epoch 95/1000\n",
      "32/32 [==============================] - 0s 5ms/step - loss: 0.0264 - accuracy: 0.9945 - val_loss: 0.0491 - val_accuracy: 0.9895\n",
      "\n",
      "Epoch 00095: val_accuracy did not improve from 0.99103\n",
      "Epoch 96/1000\n",
      "32/32 [==============================] - 0s 5ms/step - loss: 0.0262 - accuracy: 0.9953 - val_loss: 0.0483 - val_accuracy: 0.9895\n",
      "\n",
      "Epoch 00096: val_accuracy did not improve from 0.99103\n",
      "Epoch 97/1000\n",
      "32/32 [==============================] - 0s 5ms/step - loss: 0.0256 - accuracy: 0.9948 - val_loss: 0.0491 - val_accuracy: 0.9888\n",
      "\n",
      "Epoch 00097: val_accuracy did not improve from 0.99103\n",
      "Epoch 98/1000\n",
      "32/32 [==============================] - 0s 5ms/step - loss: 0.0256 - accuracy: 0.9953 - val_loss: 0.0469 - val_accuracy: 0.9895\n",
      "\n",
      "Epoch 00098: val_accuracy did not improve from 0.99103\n",
      "Epoch 99/1000\n",
      "32/32 [==============================] - 0s 6ms/step - loss: 0.0265 - accuracy: 0.9953 - val_loss: 0.0464 - val_accuracy: 0.9903\n",
      "\n",
      "Epoch 00099: val_accuracy did not improve from 0.99103\n",
      "Epoch 100/1000\n",
      "32/32 [==============================] - 0s 5ms/step - loss: 0.0251 - accuracy: 0.9950 - val_loss: 0.0475 - val_accuracy: 0.9903\n",
      "\n",
      "Epoch 00100: val_accuracy did not improve from 0.99103\n",
      "Epoch 101/1000\n",
      "32/32 [==============================] - 0s 5ms/step - loss: 0.0242 - accuracy: 0.9958 - val_loss: 0.0480 - val_accuracy: 0.9895\n",
      "\n",
      "Epoch 00101: val_accuracy did not improve from 0.99103\n",
      "Epoch 102/1000\n",
      "32/32 [==============================] - 0s 5ms/step - loss: 0.0251 - accuracy: 0.9955 - val_loss: 0.0454 - val_accuracy: 0.9895\n",
      "\n",
      "Epoch 00102: val_accuracy did not improve from 0.99103\n",
      "Epoch 103/1000\n",
      "32/32 [==============================] - 0s 5ms/step - loss: 0.0238 - accuracy: 0.9965 - val_loss: 0.0464 - val_accuracy: 0.9895\n",
      "\n",
      "Epoch 00103: val_accuracy did not improve from 0.99103\n",
      "Epoch 104/1000\n",
      "32/32 [==============================] - 0s 5ms/step - loss: 0.0239 - accuracy: 0.9955 - val_loss: 0.0455 - val_accuracy: 0.9903\n",
      "\n",
      "Epoch 00104: val_accuracy did not improve from 0.99103\n",
      "Epoch 105/1000\n",
      "32/32 [==============================] - 0s 5ms/step - loss: 0.0257 - accuracy: 0.9953 - val_loss: 0.0463 - val_accuracy: 0.9895\n",
      "\n",
      "Epoch 00105: val_accuracy did not improve from 0.99103\n",
      "Epoch 106/1000\n",
      "32/32 [==============================] - 0s 5ms/step - loss: 0.0230 - accuracy: 0.9960 - val_loss: 0.0476 - val_accuracy: 0.9910\n",
      "\n",
      "Epoch 00106: val_accuracy did not improve from 0.99103\n",
      "Epoch 107/1000\n",
      "32/32 [==============================] - 0s 5ms/step - loss: 0.0233 - accuracy: 0.9965 - val_loss: 0.0456 - val_accuracy: 0.9903\n",
      "\n",
      "Epoch 00107: val_accuracy did not improve from 0.99103\n",
      "Epoch 108/1000\n",
      "32/32 [==============================] - 0s 5ms/step - loss: 0.0233 - accuracy: 0.9948 - val_loss: 0.0470 - val_accuracy: 0.9895\n",
      "\n",
      "Epoch 00108: val_accuracy did not improve from 0.99103\n",
      "Epoch 109/1000\n",
      "32/32 [==============================] - 0s 5ms/step - loss: 0.0236 - accuracy: 0.9958 - val_loss: 0.0456 - val_accuracy: 0.9903\n",
      "\n",
      "Epoch 00109: val_accuracy did not improve from 0.99103\n",
      "Epoch 110/1000\n",
      "32/32 [==============================] - 0s 5ms/step - loss: 0.0225 - accuracy: 0.9968 - val_loss: 0.0446 - val_accuracy: 0.9910\n",
      "\n",
      "Epoch 00110: val_accuracy did not improve from 0.99103\n",
      "\n",
      "Epoch 00110: ReduceLROnPlateau reducing learning rate to 0.00010000000474974513.\n",
      "Epoch 111/1000\n",
      "32/32 [==============================] - 0s 4ms/step - loss: 0.0222 - accuracy: 0.9968 - val_loss: 0.0440 - val_accuracy: 0.9910\n",
      "\n",
      "Epoch 00111: val_accuracy did not improve from 0.99103\n",
      "Epoch 112/1000\n",
      "32/32 [==============================] - 0s 5ms/step - loss: 0.0210 - accuracy: 0.9973 - val_loss: 0.0441 - val_accuracy: 0.9895\n",
      "\n",
      "Epoch 00112: val_accuracy did not improve from 0.99103\n",
      "Epoch 113/1000\n",
      "32/32 [==============================] - 0s 5ms/step - loss: 0.0208 - accuracy: 0.9970 - val_loss: 0.0442 - val_accuracy: 0.9895\n",
      "\n",
      "Epoch 00113: val_accuracy did not improve from 0.99103\n",
      "Epoch 114/1000\n",
      "32/32 [==============================] - 0s 5ms/step - loss: 0.0208 - accuracy: 0.9968 - val_loss: 0.0442 - val_accuracy: 0.9895\n",
      "\n",
      "Epoch 00114: val_accuracy did not improve from 0.99103\n",
      "Epoch 115/1000\n",
      "32/32 [==============================] - 0s 5ms/step - loss: 0.0208 - accuracy: 0.9968 - val_loss: 0.0441 - val_accuracy: 0.9895\n",
      "\n",
      "Epoch 00115: val_accuracy did not improve from 0.99103\n",
      "Epoch 116/1000\n",
      "32/32 [==============================] - 0s 6ms/step - loss: 0.0207 - accuracy: 0.9970 - val_loss: 0.0442 - val_accuracy: 0.9895\n",
      "\n",
      "Epoch 00116: val_accuracy did not improve from 0.99103\n",
      "Epoch 117/1000\n",
      "32/32 [==============================] - 0s 5ms/step - loss: 0.0207 - accuracy: 0.9970 - val_loss: 0.0442 - val_accuracy: 0.9895\n",
      "\n",
      "Epoch 00117: val_accuracy did not improve from 0.99103\n",
      "Epoch 118/1000\n",
      "32/32 [==============================] - 0s 5ms/step - loss: 0.0206 - accuracy: 0.9968 - val_loss: 0.0440 - val_accuracy: 0.9895\n",
      "\n",
      "Epoch 00118: val_accuracy did not improve from 0.99103\n",
      "Epoch 119/1000\n",
      "32/32 [==============================] - 0s 5ms/step - loss: 0.0207 - accuracy: 0.9970 - val_loss: 0.0441 - val_accuracy: 0.9895\n",
      "\n",
      "Epoch 00119: val_accuracy did not improve from 0.99103\n",
      "Epoch 120/1000\n",
      "32/32 [==============================] - 0s 5ms/step - loss: 0.0206 - accuracy: 0.9970 - val_loss: 0.0441 - val_accuracy: 0.9895\n",
      "\n",
      "Epoch 00120: val_accuracy did not improve from 0.99103\n",
      "Epoch 121/1000\n",
      "32/32 [==============================] - 0s 6ms/step - loss: 0.0206 - accuracy: 0.9968 - val_loss: 0.0441 - val_accuracy: 0.9895\n",
      "\n",
      "Epoch 00121: val_accuracy did not improve from 0.99103\n",
      "Epoch 122/1000\n",
      "32/32 [==============================] - 0s 5ms/step - loss: 0.0206 - accuracy: 0.9970 - val_loss: 0.0441 - val_accuracy: 0.9895\n",
      "\n",
      "Epoch 00122: val_accuracy did not improve from 0.99103\n",
      "Epoch 123/1000\n",
      "32/32 [==============================] - 0s 5ms/step - loss: 0.0205 - accuracy: 0.9970 - val_loss: 0.0441 - val_accuracy: 0.9895\n",
      "\n",
      "Epoch 00123: val_accuracy did not improve from 0.99103\n",
      "Epoch 124/1000\n",
      "32/32 [==============================] - 0s 5ms/step - loss: 0.0205 - accuracy: 0.9970 - val_loss: 0.0440 - val_accuracy: 0.9895\n",
      "\n",
      "Epoch 00124: val_accuracy did not improve from 0.99103\n",
      "Epoch 125/1000\n",
      "32/32 [==============================] - 0s 5ms/step - loss: 0.0205 - accuracy: 0.9968 - val_loss: 0.0440 - val_accuracy: 0.9895\n",
      "\n",
      "Epoch 00125: val_accuracy did not improve from 0.99103\n",
      "Epoch 126/1000\n",
      "32/32 [==============================] - 0s 5ms/step - loss: 0.0205 - accuracy: 0.9968 - val_loss: 0.0439 - val_accuracy: 0.9895\n",
      "\n",
      "Epoch 00126: val_accuracy did not improve from 0.99103\n",
      "Epoch 127/1000\n",
      "32/32 [==============================] - 0s 5ms/step - loss: 0.0205 - accuracy: 0.9968 - val_loss: 0.0438 - val_accuracy: 0.9895\n",
      "\n",
      "Epoch 00127: val_accuracy did not improve from 0.99103\n",
      "Epoch 128/1000\n",
      "32/32 [==============================] - 0s 5ms/step - loss: 0.0204 - accuracy: 0.9970 - val_loss: 0.0440 - val_accuracy: 0.9895\n",
      "\n",
      "Epoch 00128: val_accuracy did not improve from 0.99103\n",
      "Epoch 129/1000\n",
      "32/32 [==============================] - 0s 5ms/step - loss: 0.0205 - accuracy: 0.9970 - val_loss: 0.0438 - val_accuracy: 0.9895\n",
      "\n",
      "Epoch 00129: val_accuracy did not improve from 0.99103\n",
      "Epoch 130/1000\n",
      "32/32 [==============================] - 0s 6ms/step - loss: 0.0204 - accuracy: 0.9970 - val_loss: 0.0440 - val_accuracy: 0.9903\n",
      "\n",
      "Epoch 00130: val_accuracy did not improve from 0.99103\n",
      "\n",
      "Epoch 00130: ReduceLROnPlateau reducing learning rate to 1.0000000474974514e-05.\n",
      "Epoch 131/1000\n",
      "32/32 [==============================] - 0s 5ms/step - loss: 0.0202 - accuracy: 0.9970 - val_loss: 0.0439 - val_accuracy: 0.9903\n",
      "\n",
      "Epoch 00131: val_accuracy did not improve from 0.99103\n",
      "Epoch 132/1000\n",
      "32/32 [==============================] - 0s 5ms/step - loss: 0.0202 - accuracy: 0.9970 - val_loss: 0.0439 - val_accuracy: 0.9903\n",
      "\n",
      "Epoch 00132: val_accuracy did not improve from 0.99103\n",
      "Epoch 133/1000\n",
      "32/32 [==============================] - 0s 5ms/step - loss: 0.0202 - accuracy: 0.9970 - val_loss: 0.0439 - val_accuracy: 0.9895\n",
      "\n",
      "Epoch 00133: val_accuracy did not improve from 0.99103\n",
      "Epoch 134/1000\n",
      "32/32 [==============================] - 0s 5ms/step - loss: 0.0202 - accuracy: 0.9970 - val_loss: 0.0439 - val_accuracy: 0.9903\n",
      "\n",
      "Epoch 00134: val_accuracy did not improve from 0.99103\n",
      "Epoch 135/1000\n",
      "32/32 [==============================] - 0s 5ms/step - loss: 0.0202 - accuracy: 0.9970 - val_loss: 0.0439 - val_accuracy: 0.9903\n",
      "\n",
      "Epoch 00135: val_accuracy did not improve from 0.99103\n",
      "Epoch 136/1000\n",
      "32/32 [==============================] - 0s 5ms/step - loss: 0.0202 - accuracy: 0.9970 - val_loss: 0.0439 - val_accuracy: 0.9895\n",
      "\n",
      "Epoch 00136: val_accuracy did not improve from 0.99103\n",
      "Epoch 137/1000\n",
      "32/32 [==============================] - 0s 5ms/step - loss: 0.0202 - accuracy: 0.9970 - val_loss: 0.0439 - val_accuracy: 0.9895\n",
      "\n",
      "Epoch 00137: val_accuracy did not improve from 0.99103\n",
      "Epoch 138/1000\n",
      "32/32 [==============================] - 0s 5ms/step - loss: 0.0202 - accuracy: 0.9970 - val_loss: 0.0439 - val_accuracy: 0.9903\n",
      "\n",
      "Epoch 00138: val_accuracy did not improve from 0.99103\n",
      "Epoch 139/1000\n",
      "32/32 [==============================] - 0s 5ms/step - loss: 0.0202 - accuracy: 0.9970 - val_loss: 0.0439 - val_accuracy: 0.9895\n",
      "\n",
      "Epoch 00139: val_accuracy did not improve from 0.99103\n",
      "Epoch 140/1000\n",
      "32/32 [==============================] - 0s 5ms/step - loss: 0.0202 - accuracy: 0.9970 - val_loss: 0.0439 - val_accuracy: 0.9895\n",
      "\n",
      "Epoch 00140: val_accuracy did not improve from 0.99103\n",
      "Epoch 141/1000\n",
      "32/32 [==============================] - 0s 5ms/step - loss: 0.0202 - accuracy: 0.9970 - val_loss: 0.0439 - val_accuracy: 0.9895\n",
      "\n",
      "Epoch 00141: val_accuracy did not improve from 0.99103\n",
      "Epoch 142/1000\n",
      "32/32 [==============================] - 0s 6ms/step - loss: 0.0202 - accuracy: 0.9970 - val_loss: 0.0439 - val_accuracy: 0.9903\n",
      "\n",
      "Epoch 00142: val_accuracy did not improve from 0.99103\n",
      "Epoch 143/1000\n",
      "32/32 [==============================] - 0s 5ms/step - loss: 0.0202 - accuracy: 0.9970 - val_loss: 0.0439 - val_accuracy: 0.9903\n",
      "\n",
      "Epoch 00143: val_accuracy did not improve from 0.99103\n",
      "Epoch 144/1000\n",
      "32/32 [==============================] - 0s 5ms/step - loss: 0.0202 - accuracy: 0.9970 - val_loss: 0.0439 - val_accuracy: 0.9903\n",
      "\n",
      "Epoch 00144: val_accuracy did not improve from 0.99103\n",
      "Epoch 145/1000\n",
      "32/32 [==============================] - 0s 6ms/step - loss: 0.0202 - accuracy: 0.9970 - val_loss: 0.0439 - val_accuracy: 0.9903\n",
      "\n",
      "Epoch 00145: val_accuracy did not improve from 0.99103\n",
      "Epoch 146/1000\n",
      "32/32 [==============================] - 0s 5ms/step - loss: 0.0202 - accuracy: 0.9970 - val_loss: 0.0439 - val_accuracy: 0.9903\n",
      "\n",
      "Epoch 00146: val_accuracy did not improve from 0.99103\n",
      "Epoch 147/1000\n",
      "32/32 [==============================] - 0s 6ms/step - loss: 0.0202 - accuracy: 0.9970 - val_loss: 0.0439 - val_accuracy: 0.9903\n",
      "\n",
      "Epoch 00147: val_accuracy did not improve from 0.99103\n",
      "Epoch 148/1000\n",
      "32/32 [==============================] - 0s 5ms/step - loss: 0.0202 - accuracy: 0.9970 - val_loss: 0.0439 - val_accuracy: 0.9903\n",
      "\n",
      "Epoch 00148: val_accuracy did not improve from 0.99103\n",
      "Epoch 149/1000\n",
      "32/32 [==============================] - 0s 5ms/step - loss: 0.0202 - accuracy: 0.9970 - val_loss: 0.0439 - val_accuracy: 0.9903\n",
      "\n",
      "Epoch 00149: val_accuracy did not improve from 0.99103\n",
      "Epoch 150/1000\n",
      "32/32 [==============================] - 0s 5ms/step - loss: 0.0202 - accuracy: 0.9970 - val_loss: 0.0439 - val_accuracy: 0.9903\n",
      "\n",
      "Epoch 00150: val_accuracy did not improve from 0.99103\n",
      "\n",
      "Epoch 00150: ReduceLROnPlateau reducing learning rate to 1.0000000656873453e-06.\n",
      "Epoch 151/1000\n",
      "32/32 [==============================] - 0s 6ms/step - loss: 0.0201 - accuracy: 0.9970 - val_loss: 0.0439 - val_accuracy: 0.9903\n",
      "\n",
      "Epoch 00151: val_accuracy did not improve from 0.99103\n",
      "Epoch 152/1000\n",
      "32/32 [==============================] - 0s 5ms/step - loss: 0.0201 - accuracy: 0.9970 - val_loss: 0.0439 - val_accuracy: 0.9903\n",
      "\n",
      "Epoch 00152: val_accuracy did not improve from 0.99103\n",
      "Epoch 153/1000\n",
      "32/32 [==============================] - 0s 5ms/step - loss: 0.0201 - accuracy: 0.9970 - val_loss: 0.0439 - val_accuracy: 0.9903\n",
      "\n",
      "Epoch 00153: val_accuracy did not improve from 0.99103\n",
      "Epoch 154/1000\n",
      "32/32 [==============================] - 0s 5ms/step - loss: 0.0201 - accuracy: 0.9970 - val_loss: 0.0439 - val_accuracy: 0.9903\n",
      "\n",
      "Epoch 00154: val_accuracy did not improve from 0.99103\n",
      "Epoch 155/1000\n",
      "32/32 [==============================] - 0s 5ms/step - loss: 0.0201 - accuracy: 0.9970 - val_loss: 0.0439 - val_accuracy: 0.9903\n",
      "\n",
      "Epoch 00155: val_accuracy did not improve from 0.99103\n",
      "Epoch 156/1000\n",
      "32/32 [==============================] - 0s 5ms/step - loss: 0.0201 - accuracy: 0.9970 - val_loss: 0.0439 - val_accuracy: 0.9903\n",
      "\n",
      "Epoch 00156: val_accuracy did not improve from 0.99103\n",
      "Epoch 157/1000\n",
      "32/32 [==============================] - 0s 5ms/step - loss: 0.0201 - accuracy: 0.9970 - val_loss: 0.0439 - val_accuracy: 0.9903\n",
      "\n",
      "Epoch 00157: val_accuracy did not improve from 0.99103\n",
      "Epoch 158/1000\n",
      "32/32 [==============================] - 0s 5ms/step - loss: 0.0201 - accuracy: 0.9970 - val_loss: 0.0439 - val_accuracy: 0.9903\n",
      "\n",
      "Epoch 00158: val_accuracy did not improve from 0.99103\n",
      "Epoch 159/1000\n",
      "32/32 [==============================] - 0s 5ms/step - loss: 0.0201 - accuracy: 0.9970 - val_loss: 0.0439 - val_accuracy: 0.9903\n",
      "\n",
      "Epoch 00159: val_accuracy did not improve from 0.99103\n",
      "Epoch 160/1000\n",
      "32/32 [==============================] - 0s 5ms/step - loss: 0.0201 - accuracy: 0.9970 - val_loss: 0.0439 - val_accuracy: 0.9903\n",
      "\n",
      "Epoch 00160: val_accuracy did not improve from 0.99103\n",
      "Epoch 161/1000\n",
      "32/32 [==============================] - 0s 5ms/step - loss: 0.0201 - accuracy: 0.9970 - val_loss: 0.0439 - val_accuracy: 0.9903\n",
      "\n",
      "Epoch 00161: val_accuracy did not improve from 0.99103\n",
      "Epoch 162/1000\n",
      "32/32 [==============================] - 0s 5ms/step - loss: 0.0201 - accuracy: 0.9970 - val_loss: 0.0439 - val_accuracy: 0.9903\n",
      "\n",
      "Epoch 00162: val_accuracy did not improve from 0.99103\n",
      "Epoch 163/1000\n",
      "32/32 [==============================] - 0s 5ms/step - loss: 0.0201 - accuracy: 0.9970 - val_loss: 0.0439 - val_accuracy: 0.9903\n",
      "\n",
      "Epoch 00163: val_accuracy did not improve from 0.99103\n",
      "Epoch 164/1000\n",
      "32/32 [==============================] - 0s 5ms/step - loss: 0.0201 - accuracy: 0.9970 - val_loss: 0.0439 - val_accuracy: 0.9903\n",
      "\n",
      "Epoch 00164: val_accuracy did not improve from 0.99103\n",
      "Epoch 165/1000\n",
      "32/32 [==============================] - 0s 5ms/step - loss: 0.0201 - accuracy: 0.9970 - val_loss: 0.0439 - val_accuracy: 0.9903\n",
      "\n",
      "Epoch 00165: val_accuracy did not improve from 0.99103\n",
      "Epoch 166/1000\n",
      "32/32 [==============================] - 0s 5ms/step - loss: 0.0201 - accuracy: 0.9970 - val_loss: 0.0439 - val_accuracy: 0.9903\n",
      "\n",
      "Epoch 00166: val_accuracy did not improve from 0.99103\n",
      "Epoch 167/1000\n",
      "32/32 [==============================] - 0s 5ms/step - loss: 0.0201 - accuracy: 0.9970 - val_loss: 0.0438 - val_accuracy: 0.9903\n",
      "\n",
      "Epoch 00167: val_accuracy did not improve from 0.99103\n",
      "Epoch 168/1000\n",
      "32/32 [==============================] - 0s 5ms/step - loss: 0.0201 - accuracy: 0.9970 - val_loss: 0.0438 - val_accuracy: 0.9903\n",
      "\n",
      "Epoch 00168: val_accuracy did not improve from 0.99103\n",
      "Epoch 169/1000\n",
      "32/32 [==============================] - 0s 5ms/step - loss: 0.0201 - accuracy: 0.9970 - val_loss: 0.0439 - val_accuracy: 0.9903\n",
      "\n",
      "Epoch 00169: val_accuracy did not improve from 0.99103\n",
      "Epoch 00169: early stopping\n"
     ]
    },
    {
     "data": {
      "text/plain": [
       "<keras.callbacks.History at 0x7efa6c160be0>"
      ]
     },
     "execution_count": 149,
     "metadata": {},
     "output_type": "execute_result"
    }
   ],
   "source": [
    "model.fit(\n",
    "    X_train,\n",
    "    y_train,\n",
    "    epochs=1000,\n",
    "    batch_size=256,\n",
    "    validation_data=(X_test, y_test),\n",
    "    callbacks=[cp_callback, es_callback, lr_reducer]\n",
    ")"
   ]
  },
  {
   "cell_type": "code",
   "execution_count": 150,
   "metadata": {
    "colab": {
     "base_uri": "https://localhost:8080/"
    },
    "id": "pxvb2Y299hE3",
    "outputId": "59eb3185-2e37-4b9e-bc9d-ab1b8ac29b7f"
   },
   "outputs": [
    {
     "name": "stdout",
     "output_type": "stream",
     "text": [
      "11/11 [==============================] - 0s 3ms/step - loss: 0.0439 - accuracy: 0.9903\n"
     ]
    }
   ],
   "source": [
    "# Model evaluation\n",
    "val_loss, val_acc = model.evaluate(X_test, y_test, batch_size=128)"
   ]
  },
  {
   "cell_type": "code",
   "execution_count": 151,
   "metadata": {
    "id": "RBkmDeUW9hE4"
   },
   "outputs": [],
   "source": [
    "# Loading the saved model\n",
    "model = tf.keras.models.load_model(model_save_path)"
   ]
  },
  {
   "cell_type": "code",
   "execution_count": 152,
   "metadata": {
    "colab": {
     "base_uri": "https://localhost:8080/"
    },
    "id": "tFz9Tb0I9hE4",
    "outputId": "1c3b3528-54ae-4ee2-ab04-77429211cbef"
   },
   "outputs": [
    {
     "name": "stdout",
     "output_type": "stream",
     "text": [
      "[3.5804772e-09 4.5868000e-03 9.9541324e-01 7.3020107e-10]\n",
      "2\n"
     ]
    }
   ],
   "source": [
    "# Inference test\n",
    "predict_result = model.predict(np.array([X_test[0]]))\n",
    "print(np.squeeze(predict_result))\n",
    "print(np.argmax(np.squeeze(predict_result)))"
   ]
  },
  {
   "cell_type": "markdown",
   "metadata": {
    "id": "S3U4yNWx9hE4"
   },
   "source": [
    "# Confusion matrix"
   ]
  },
  {
   "cell_type": "code",
   "execution_count": 153,
   "metadata": {
    "colab": {
     "base_uri": "https://localhost:8080/",
     "height": 582
    },
    "id": "AP1V6SCk9hE5",
    "outputId": "08e41a80-7a4a-4619-8125-ecc371368d19"
   },
   "outputs": [
    {
     "data": {
      "image/png": "[encoded data removed]",
      "text/plain": [
       "<Figure size 504x432 with 2 Axes>"
      ]
     },
     "metadata": {
      "needs_background": "light"
     },
     "output_type": "display_data"
    },
    {
     "name": "stdout",
     "output_type": "stream",
     "text": [
      "Classification Report\n",
      "              precision    recall  f1-score   support\n",
      "\n",
      "           0       0.99      0.99      0.99       456\n",
      "           1       0.99      0.99      0.99       479\n",
      "           2       0.99      0.99      0.99       326\n",
      "           3       1.00      1.00      1.00        77\n",
      "\n",
      "    accuracy                           0.99      1338\n",
      "   macro avg       0.99      0.99      0.99      1338\n",
      "weighted avg       0.99      0.99      0.99      1338\n",
      "\n"
     ]
    }
   ],
   "source": [
    "import pandas as pd\n",
    "import seaborn as sns\n",
    "import matplotlib.pyplot as plt\n",
    "from sklearn.metrics import confusion_matrix, classification_report\n",
    "\n",
    "def print_confusion_matrix(y_true, y_pred, report=True):\n",
    "    labels = sorted(list(set(y_true)))\n",
    "    cmx_data = confusion_matrix(y_true, y_pred, labels=labels)\n",
    "    \n",
    "    df_cmx = pd.DataFrame(cmx_data, index=labels, columns=labels)\n",
    " \n",
    "    fig, ax = plt.subplots(figsize=(7, 6))\n",
    "    sns.heatmap(df_cmx, annot=True, fmt='g' ,square=False)\n",
    "    ax.set_ylim(len(set(y_true)), 0)\n",
    "    plt.show()\n",
    "    \n",
    "    if report:\n",
    "        print('Classification Report')\n",
    "        print(classification_report(y_test, y_pred))\n",
    "\n",
    "Y_pred = model.predict(X_test)\n",
    "y_pred = np.argmax(Y_pred, axis=1)\n",
    "\n",
    "print_confusion_matrix(y_test, y_pred)"
   ]
  },
  {
   "cell_type": "markdown",
   "metadata": {
    "id": "FNP6aqzc9hE5"
   },
   "source": [
    "# Convert to model for Tensorflow-Lite"
   ]
  },
  {
   "cell_type": "code",
   "execution_count": 154,
   "metadata": {
    "id": "ODjnYyld9hE6"
   },
   "outputs": [],
   "source": [
    "# Save as a model dedicated to inference\n",
    "model.save(model_save_path, include_optimizer=False)"
   ]
  },
  {
   "cell_type": "code",
   "execution_count": 155,
   "metadata": {
    "colab": {
     "base_uri": "https://localhost:8080/"
    },
    "id": "zRfuK8Y59hE6",
    "outputId": "a4ca585c-b5d5-4244-8291-8674063209bb"
   },
   "outputs": [
    {
     "name": "stdout",
     "output_type": "stream",
     "text": [
      "INFO:tensorflow:Assets written to: /tmp/tmpunfksmez/assets\n"
     ]
    },
    {
     "name": "stderr",
     "output_type": "stream",
     "text": [
      "INFO:tensorflow:Assets written to: /tmp/tmpunfksmez/assets\n",
      "2021-10-28 11:38:52.001266: I tensorflow/stream_executor/cuda/cuda_gpu_executor.cc:937] successful NUMA node read from SysFS had negative value (-1), but there must be at least one NUMA node, so returning NUMA node zero\n",
      "2021-10-28 11:38:52.001549: I tensorflow/core/grappler/devices.cc:66] Number of eligible GPUs (core count >= 8, compute capability >= 0.0): 0\n",
      "2021-10-28 11:38:52.001627: I tensorflow/core/grappler/clusters/single_machine.cc:357] Starting new session\n",
      "2021-10-28 11:38:52.001920: I tensorflow/stream_executor/cuda/cuda_gpu_executor.cc:937] successful NUMA node read from SysFS had negative value (-1), but there must be at least one NUMA node, so returning NUMA node zero\n",
      "2021-10-28 11:38:52.002201: I tensorflow/stream_executor/cuda/cuda_gpu_executor.cc:937] successful NUMA node read from SysFS had negative value (-1), but there must be at least one NUMA node, so returning NUMA node zero\n",
      "2021-10-28 11:38:52.002454: I tensorflow/stream_executor/cuda/cuda_gpu_executor.cc:937] successful NUMA node read from SysFS had negative value (-1), but there must be at least one NUMA node, so returning NUMA node zero\n",
      "2021-10-28 11:38:52.002765: I tensorflow/stream_executor/cuda/cuda_gpu_executor.cc:937] successful NUMA node read from SysFS had negative value (-1), but there must be at least one NUMA node, so returning NUMA node zero\n",
      "2021-10-28 11:38:52.003025: I tensorflow/stream_executor/cuda/cuda_gpu_executor.cc:937] successful NUMA node read from SysFS had negative value (-1), but there must be at least one NUMA node, so returning NUMA node zero\n",
      "2021-10-28 11:38:52.003237: I tensorflow/core/common_runtime/gpu/gpu_device.cc:1510] Created device /job:localhost/replica:0/task:0/device:GPU:0 with 2877 MB memory:  -> device: 0, name: NVIDIA GeForce MX150, pci bus id: 0000:01:00.0, compute capability: 6.1\n",
      "2021-10-28 11:38:52.004428: I tensorflow/core/grappler/optimizers/meta_optimizer.cc:1137] Optimization results for grappler item: graph_to_optimize\n",
      "  function_optimizer: function_optimizer did nothing. time = 0.006ms.\n",
      "  function_optimizer: function_optimizer did nothing. time = 0.001ms.\n",
      "\n",
      "2021-10-28 11:38:52.038109: W tensorflow/compiler/mlir/lite/python/tf_tfl_flatbuffer_helpers.cc:351] Ignored output_format.\n",
      "2021-10-28 11:38:52.038136: W tensorflow/compiler/mlir/lite/python/tf_tfl_flatbuffer_helpers.cc:354] Ignored drop_control_dependency.\n",
      "2021-10-28 11:38:52.056454: I tensorflow/lite/tools/optimize/quantize_weights.cc:225] Skipping quantization of tensor sequential_17/dense_51/MatMul because it has fewer than 1024 elements (840).\n",
      "2021-10-28 11:38:52.056477: I tensorflow/lite/tools/optimize/quantize_weights.cc:225] Skipping quantization of tensor sequential_17/dense_52/MatMul because it has fewer than 1024 elements (200).\n",
      "2021-10-28 11:38:52.056483: I tensorflow/lite/tools/optimize/quantize_weights.cc:225] Skipping quantization of tensor sequential_17/dense_53/MatMul because it has fewer than 1024 elements (40).\n"
     ]
    },
    {
     "data": {
      "text/plain": [
       "6432"
      ]
     },
     "execution_count": 155,
     "metadata": {},
     "output_type": "execute_result"
    }
   ],
   "source": [
    "# Transform model (quantization)\n",
    "\n",
    "converter = tf.lite.TFLiteConverter.from_keras_model(model)\n",
    "converter.optimizations = [tf.lite.Optimize.DEFAULT]\n",
    "tflite_quantized_model = converter.convert()\n",
    "\n",
    "open(tflite_save_path, 'wb').write(tflite_quantized_model)"
   ]
  },
  {
   "cell_type": "markdown",
   "metadata": {
    "id": "CHBPBXdx9hE6"
   },
   "source": [
    "# Inference test"
   ]
  },
  {
   "cell_type": "code",
   "execution_count": 156,
   "metadata": {
    "id": "mGAzLocO9hE7"
   },
   "outputs": [],
   "source": [
    "interpreter = tf.lite.Interpreter(model_path=tflite_save_path)\n",
    "interpreter.allocate_tensors()"
   ]
  },
  {
   "cell_type": "code",
   "execution_count": 157,
   "metadata": {
    "id": "oQuDK8YS9hE7"
   },
   "outputs": [],
   "source": [
    "# Get I / O tensor\n",
    "input_details = interpreter.get_input_details()\n",
    "output_details = interpreter.get_output_details()"
   ]
  },
  {
   "cell_type": "code",
   "execution_count": 158,
   "metadata": {
    "id": "2_ixAf_l9hE7"
   },
   "outputs": [],
   "source": [
    "interpreter.set_tensor(input_details[0]['index'], np.array([X_test[0]]))"
   ]
  },
  {
   "cell_type": "code",
   "execution_count": 159,
   "metadata": {
    "colab": {
     "base_uri": "https://localhost:8080/"
    },
    "id": "s4FoAnuc9hE7",
    "outputId": "91f18257-8d8b-4ef3-c558-e9b5f94fabbf",
    "scrolled": true
   },
   "outputs": [
    {
     "name": "stdout",
     "output_type": "stream",
     "text": [
      "CPU times: user 175 µs, sys: 18 µs, total: 193 µs\n",
      "Wall time: 164 µs\n"
     ]
    }
   ],
   "source": [
    "%%time\n",
    "# Inference implementation\n",
    "interpreter.invoke()\n",
    "tflite_results = interpreter.get_tensor(output_details[0]['index'])"
   ]
  },
  {
   "cell_type": "code",
   "execution_count": 160,
   "metadata": {
    "colab": {
     "base_uri": "https://localhost:8080/"
    },
    "id": "vONjp19J9hE8",
    "outputId": "77205e24-fd00-42c4-f7b6-e06e527c2cba"
   },
   "outputs": [
    {
     "name": "stdout",
     "output_type": "stream",
     "text": [
      "[3.5804635e-09 4.5867916e-03 9.9541324e-01 7.3020101e-10]\n",
      "2\n"
     ]
    }
   ],
   "source": [
    "print(np.squeeze(tflite_results))\n",
    "print(np.argmax(np.squeeze(tflite_results)))"
   ]
  },
  {
   "cell_type": "code",
   "execution_count": null,
   "metadata": {},
   "outputs": [],
   "source": []
  }
 ],
 "metadata": {
  "accelerator": "GPU",
  "colab": {
   "collapsed_sections": [],
   "name": "keypoint_classification_EN.ipynb",
   "provenance": [],
   "toc_visible": true
  },
  "kernelspec": {
   "display_name": "Python 3 (ipykernel)",
   "language": "python",
   "name": "python3"
  },
  "language_info": {
   "codemirror_mode": {
    "name": "ipython",
    "version": 3
   },
   "file_extension": ".py",
   "mimetype": "text/x-python",
   "name": "python",
   "nbconvert_exporter": "python",
   "pygments_lexer": "ipython3",
   "version": "3.8.0"
  }
 },
 "nbformat": 4,
 "nbformat_minor": 4
}
